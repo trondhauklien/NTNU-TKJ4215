{
 "cells": [
  {
   "cell_type": "code",
   "execution_count": 1,
   "metadata": {},
   "outputs": [],
   "source": [
    "import numpy as np\n",
    "from sympy import symbols, diff, nsolve, Symbol, log\n",
    "import matplotlib.pyplot as plt\n",
    "import seaborn as sns"
   ]
  },
  {
   "attachments": {},
   "cell_type": "markdown",
   "metadata": {},
   "source": [
    "# Exerxise 2\n",
    "\n",
    "Trond Hauklien\n",
    "TKJ4215 Statistical Thermodynamics in Chemistry and Biology\n",
    "Date: 07.02.2023"
   ]
  },
  {
   "attachments": {},
   "cell_type": "markdown",
   "metadata": {},
   "source": [
    "### Task 1"
   ]
  },
  {
   "cell_type": "code",
   "execution_count": 2,
   "metadata": {},
   "outputs": [],
   "source": [
    "x, y, l = symbols(\"x, y, l\")\n",
    "\n",
    "\n",
    "def finding_equations(f, g):\n",
    "    \"\"\"\n",
    "    Given the function f and the constraint fucntion g, it returns a list of equations for which the system of equations is going to be solved.\n",
    "    \"\"\"\n",
    "    equations = []\n",
    "\n",
    "    for s in f.atoms(Symbol):\n",
    "        equations.append(diff(f, s) - l * diff(g, s))\n",
    "\n",
    "    equations.append(g)\n",
    "    return equations"
   ]
  },
  {
   "cell_type": "code",
   "execution_count": 3,
   "metadata": {},
   "outputs": [
    {
     "name": "stdout",
     "output_type": "stream",
     "text": [
      "For f(x, y) = x**2 + y, g(x, y) = x - y = 0 we get \n",
      "x = -0.50, y = -0.50 and l = -1.0.\n"
     ]
    }
   ],
   "source": [
    "f = x**2 + y\n",
    "g = x - y\n",
    "\n",
    "result = nsolve(finding_equations(f, g), [x, y, l], [1, 1, 1])\n",
    "print(\n",
    "    f\"For f(x, y) = x**2 + y, g(x, y) = x - y = 0 we get \\nx = {result[0]:.2}, y = {result[1]:.2} and l = {result[2]:.2}.\"\n",
    ")"
   ]
  },
  {
   "cell_type": "code",
   "execution_count": 4,
   "metadata": {},
   "outputs": [
    {
     "name": "stdout",
     "output_type": "stream",
     "text": [
      "For f(x, y) = x**2 - 8 * x + y**2 - 12 * y + 48, g(x, y) = x + y - 8 = 0 we get \n",
      "x = 3.0, y = 5.0 and l = -2.0.\n"
     ]
    }
   ],
   "source": [
    "f = x**2 - 8 * x + y**2 - 12 * y + 48\n",
    "g = x + y - 8\n",
    "\n",
    "result = nsolve(finding_equations(f, g), [x, y, l], [1, 1, 1])\n",
    "print(\n",
    "    f\"For f(x, y) = x**2 - 8 * x + y**2 - 12 * y + 48, g(x, y) = x + y - 8 = 0 we get \\nx = {result[0]:.2}, y = {result[1]:.2} and l = {result[2]:.2}.\"\n",
    ")"
   ]
  },
  {
   "attachments": {},
   "cell_type": "markdown",
   "metadata": {},
   "source": [
    "By solving the system of equations we get that\n",
    "$$\n",
    "\n",
    "\\begin{align*}\n",
    "  x &= 3 \\\\\n",
    "  y &= 5 \\\\\n",
    "  \\lambda &= -2 \n",
    "\\end{align*}\n",
    "\n",
    "$$"
   ]
  },
  {
   "attachments": {},
   "cell_type": "markdown",
   "metadata": {},
   "source": [
    "### Task 2"
   ]
  },
  {
   "cell_type": "code",
   "execution_count": 5,
   "metadata": {},
   "outputs": [
    {
     "name": "stdout",
     "output_type": "stream",
     "text": [
      "[1.00000000000000, 0.500000000000000, 0.333333333333333, 0.250000000000000, 0.200000000000000, 0.166666666666667, 0.142857142857143, 0.125000000000000, 0.111111111111111, 0.100000000000000, 0.0909090909090909, 0.0833333333333333, 0.0769230769230769, 0.0714285714285714, 0.0666666666666667, 0.0625000000000000, 0.0588235294117647, 0.0555555555555556, 0.0526315789473684]\n"
     ]
    }
   ],
   "source": [
    "def dist_n_dice(n):\n",
    "    \"\"\"Give the probability distribution of the sum of n-sided dice.\"\"\"\n",
    "    variables = [Symbol(f\"p_{i}\") for i in range(1, n + 1)]\n",
    "    f = -sum([p_n * log(p_n) for p_n in variables])\n",
    "    g = sum(variables) - 1\n",
    "\n",
    "    eqs = finding_equations(f, g)\n",
    "    variables.append(l)\n",
    "\n",
    "    result = nsolve(eqs, variables, [1 / n] * (n + 1))\n",
    "    return result\n",
    "\n",
    "\n",
    "dice_dist = []\n",
    "for n in range(1, 20):\n",
    "    dice_dist.append(dist_n_dice(n)[0])\n",
    "\n",
    "print(dice_dist)\n",
    "\n",
    "x, y = symbols(\"x, y\")\n",
    "x, y = Symbol(\"x\"), Symbol(\"x\")"
   ]
  },
  {
   "cell_type": "code",
   "execution_count": 6,
   "metadata": {},
   "outputs": [
    {
     "ename": "AttributeError",
     "evalue": "'list' object has no attribute 'keys'",
     "output_type": "error",
     "traceback": [
      "\u001b[1;31m---------------------------------------------------------------------------\u001b[0m",
      "\u001b[1;31mAttributeError\u001b[0m                            Traceback (most recent call last)",
      "Cell \u001b[1;32mIn[6], line 2\u001b[0m\n\u001b[0;32m      1\u001b[0m plt\u001b[39m.\u001b[39mfigure(figsize\u001b[39m=\u001b[39m(\u001b[39m20\u001b[39m,\u001b[39m8\u001b[39m))\n\u001b[1;32m----> 2\u001b[0m sns\u001b[39m.\u001b[39mbarplot(x\u001b[39m=\u001b[39m\u001b[39mlist\u001b[39m(dice_dist\u001b[39m.\u001b[39;49mkeys()), y\u001b[39m=\u001b[39m\u001b[39mlist\u001b[39m(dice_dist\u001b[39m.\u001b[39mvalues()))\n\u001b[0;32m      3\u001b[0m plt\u001b[39m.\u001b[39myticks(size \u001b[39m=\u001b[39m \u001b[39m12\u001b[39m)\n\u001b[0;32m      4\u001b[0m plt\u001b[39m.\u001b[39mxticks(rotation\u001b[39m=\u001b[39m\u001b[39m45\u001b[39m, size \u001b[39m=\u001b[39m \u001b[39m12\u001b[39m)\n",
      "\u001b[1;31mAttributeError\u001b[0m: 'list' object has no attribute 'keys'"
     ]
    },
    {
     "data": {
      "text/plain": [
       "<Figure size 2000x800 with 0 Axes>"
      ]
     },
     "metadata": {},
     "output_type": "display_data"
    }
   ],
   "source": [
    "plt.figure(figsize=(20,8))\n",
    "sns.barplot(x=list(dice_dist.keys()), y=list(dice_dist.values()))\n",
    "plt.yticks(size = 12)\n",
    "plt.xticks(rotation=45, size = 12)\n",
    "plt.show()"
   ]
  },
  {
   "attachments": {},
   "cell_type": "markdown",
   "metadata": {},
   "source": [
    "Vi får en geometrisk fordeling."
   ]
  }
 ],
 "metadata": {
  "kernelspec": {
   "display_name": "statterm",
   "language": "python",
   "name": "python3"
  },
  "language_info": {
   "codemirror_mode": {
    "name": "ipython",
    "version": 3
   },
   "file_extension": ".py",
   "mimetype": "text/x-python",
   "name": "python",
   "nbconvert_exporter": "python",
   "pygments_lexer": "ipython3",
   "version": "3.10.9"
  },
  "orig_nbformat": 4,
  "vscode": {
   "interpreter": {
    "hash": "0afb76aee01c9cec204bbb116702d1c4b100b288d4a73037267246371265def3"
   }
  }
 },
 "nbformat": 4,
 "nbformat_minor": 2
}
