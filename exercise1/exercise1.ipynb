{
 "cells": [
  {
   "cell_type": "code",
   "execution_count": 1,
   "metadata": {},
   "outputs": [],
   "source": [
    "import numpy as np\n",
    "from sympy import symbols, cos, log"
   ]
  },
  {
   "attachments": {},
   "cell_type": "markdown",
   "metadata": {},
   "source": [
    "# Exerxise 1 \n",
    "\n",
    "Trond Hauklien\n",
    "TKJ4215 Statistical Thermodynamics in Chemistry and Biology\n",
    "Date: 01.02.2023"
   ]
  },
  {
   "attachments": {},
   "cell_type": "markdown",
   "metadata": {},
   "source": [
    "### Task 5"
   ]
  },
  {
   "cell_type": "code",
   "execution_count": 2,
   "metadata": {},
   "outputs": [
    {
     "name": "stdout",
     "output_type": "stream",
     "text": [
      "df_dx = 6*x\n",
      "dg_dx = 1/x\n",
      "dh = [3*x**2, 4*y]\n"
     ]
    }
   ],
   "source": [
    "x, y = symbols(\"x y\")\n",
    "\n",
    "# Define the following functions:\n",
    "f = 3 * x**2\n",
    "g = log(x)\n",
    "h = x**3 + 2 * y**2\n",
    "\n",
    "# Compute the following derivatives:\n",
    "df_dx = f.diff(x)\n",
    "dg_dx = g.diff(x)\n",
    "dh = [h.diff(x), h.diff(y)]\n",
    "\n",
    "print(\"df_dx =\", df_dx)\n",
    "print(\"dg_dx =\", dg_dx)\n",
    "print(\"dh =\", dh)"
   ]
  }
 ],
 "metadata": {
  "kernelspec": {
   "display_name": "statterm",
   "language": "python",
   "name": "python3"
  },
  "language_info": {
   "codemirror_mode": {
    "name": "ipython",
    "version": 3
   },
   "file_extension": ".py",
   "mimetype": "text/x-python",
   "name": "python",
   "nbconvert_exporter": "python",
   "pygments_lexer": "ipython3",
   "version": "3.10.9"
  },
  "orig_nbformat": 4,
  "vscode": {
   "interpreter": {
    "hash": "0afb76aee01c9cec204bbb116702d1c4b100b288d4a73037267246371265def3"
   }
  }
 },
 "nbformat": 4,
 "nbformat_minor": 2
}
